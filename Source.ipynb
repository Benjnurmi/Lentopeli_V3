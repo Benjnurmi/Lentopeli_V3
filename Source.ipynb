{
 "cells": [
  {
   "cell_type": "code",
   "execution_count": 3,
   "metadata": {},
   "outputs": [
    {
     "name": "stdout",
     "output_type": "stream",
     "text": [
      "2022 Ei ole karkausvuosi\n"
     ]
    }
   ],
   "source": [
    "import mysql.connector\n",
    "import random\n",
    "\n",
    "ilma_alukset = [\"lentokone\", \"vesitaso\", \"helikopteri\"]\n",
    "\n",
    "print(\"syötä K jos haluat pelata peliä\")\n",
    "print(\"syötä E jos et halua pelata peliä\")\n",
    "user_answer = input(\"Syötä K tai E: \").upper()\n",
    "if user_answer == \"K\":\n",
    "    print(\"Tervetuloa lentopeliin\")\n",
    "    print(\"Valitse ilma-alus:\")\n",
    "    print(f\"Lista ilma-aluksista: {ilma_alukset}\")\n",
    "    ilma_alus_input = \"\"\n",
    "    while ilma_alus_input != \"lentokone\" or \"vesitaso\" or \"helikopteri\":\n",
    "        ilma_alus_input = input(\"Syötä ilma-alus: \").lower()\n",
    "        if ilma_alus_input == \"lentokone\":\n",
    "            print(\"valitsit cesna 172 lentokoneen\")\n",
    "            print(\"cesna 172 on lentokone, jolla voi lentää kerralla maksimissaan 1185 km pitkän matkan\")\n",
    "            break\n",
    "        elif ilma_alus_input == \"vesitaso\":\n",
    "            print(\"valitsit cesna 185 vesitason\")\n",
    "            print(\"cesna 185 on vesitaso, jolla voi lentää kerralla maksimissaan 933 km pitkän matkan\")\n",
    "            break\n",
    "        elif ilma_alus_input == \"helikopteri\":\n",
    "            print(\"valitsit airbus H135 helikopterin\")\n",
    "            print(\"airbus H135 on helikopteri, jolla voi lentää kerralla maksimissaan 633 km pitkän matkan\")\n",
    "            break\n",
    "        else:\n",
    "            print(\"Virheellinen ilma-alus\")\n",
    "            print(\"Syötä ilma-alus uudelleen\")\n",
    "\n",
    "    yhteys = mysql.connector.connect(\n",
    "        host='127.0.0.1',\n",
    "        port=3306,\n",
    "        database='flight_game',\n",
    "        user='benjamn',\n",
    "        password='Metrolippu23',\n",
    "        autocommit=True\n",
    "    )\n",
    "\n",
    "    suomen_lentokentät = []\n",
    "    sql = \"SELECT name FROM airport WHERE iso_country = 'FI'\"\n",
    "    kursori = yhteys.cursor()\n",
    "    kursori.execute(sql)\n",
    "    tulos = kursori.fetchall()\n",
    "    \"\"\"for rivi in tulos:\n",
    "        print(f\"{rivi[0]}\")\"\"\"\n",
    "\n",
    "    maailman_lentokentät = []\n",
    "    sql2 = \"SELECT name FROM airport\"\n",
    "    kursori1 = yhteys.cursor()\n",
    "    kursori1.execute(sql2)\n",
    "    tulos2 = kursori1.fetchall()\n",
    "    maailman_lentokentät.append(tulos2)\n",
    "\n",
    "    valittu_kenttä = random.choice(tulos)\n",
    "    # print(valittu_kenttä)\n",
    "\n",
    "    print(f\"{ilma_alus_input} lähtee kohteesta {valittu_kenttä} \")\n",
    "\n",
    "    if ilma_alus_input == \"lentokone\":d\n",
    "\n",
    "\n",
    "\n",
    "\n",
    "\n",
    "\n",
    "\n",
    "\n",
    "\n",
    "\n",
    "\n",
    "elif user_answer == \"E\":\n",
    "    print(\"Lopetit pelin!\")\n",
    "    print(\"Haluatko antaa palautetta? \")\n",
    "    print(\"Syötä K jos haluat antaa palautetta tai syötä E jos et halua antaa palautetta.\")\n",
    "    user_help_answer = input(\"Haluatko antaa palautetta (K / E)? \").upper()\n",
    "    if user_help_answer == \"K\":\n",
    "        input(\"Anna palautetta: \")\n",
    "        print(\"Kiitos palautteesta!\")\n",
    "    elif user_help_answer == \"E\":\n",
    "        print(\"Peli ohi\")\n",
    "\n",
    "\n",
    "\n",
    "\n",
    "\n",
    "\n",
    "\n",
    "\n"
   ]
  }
 ],
 "metadata": {
  "kernelspec": {
   "display_name": "Python 3.9.13 64-bit",
   "language": "python",
   "name": "python3"
  },
  "language_info": {
   "codemirror_mode": {
    "name": "ipython",
    "version": 3
   },
   "file_extension": ".py",
   "mimetype": "text/x-python",
   "name": "python",
   "nbconvert_exporter": "python",
   "pygments_lexer": "ipython3",
   "version": "3.9.13"
  },
  "orig_nbformat": 4,
  "vscode": {
   "interpreter": {
    "hash": "13f0cb0a81c3b5d98267edb52c8df5ab397f1e76f483578498ff8d8f6d5d2130"
   }
  }
 },
 "nbformat": 4,
 "nbformat_minor": 2
}
